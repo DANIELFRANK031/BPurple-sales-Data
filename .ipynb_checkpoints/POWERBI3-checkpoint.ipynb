{
 "cells": [
  {
   "cell_type": "code",
   "execution_count": 1,
   "id": "74d1cb77",
   "metadata": {},
   "outputs": [],
   "source": [
    "import pandas as pd"
   ]
  },
  {
   "cell_type": "code",
   "execution_count": 6,
   "id": "0db841f7",
   "metadata": {},
   "outputs": [
    {
     "name": "stderr",
     "output_type": "stream",
     "text": [
      "C:\\Users\\USER\\anaconda3\\Lib\\site-packages\\openpyxl\\worksheet\\_read_only.py:79: UserWarning: Cell E6 is marked as a date but the serial value 3296425.02 is outside the limits for dates. The cell will be treated as an error.\n",
      "  for idx, row in parser.parse():\n",
      "C:\\Users\\USER\\anaconda3\\Lib\\site-packages\\openpyxl\\worksheet\\_read_only.py:79: UserWarning: Cell E15 is marked as a date but the serial value 5997054.98 is outside the limits for dates. The cell will be treated as an error.\n",
      "  for idx, row in parser.parse():\n",
      "C:\\Users\\USER\\anaconda3\\Lib\\site-packages\\openpyxl\\worksheet\\_read_only.py:79: UserWarning: Cell F15 is marked as a date but the serial value 4509793.96 is outside the limits for dates. The cell will be treated as an error.\n",
      "  for idx, row in parser.parse():\n",
      "C:\\Users\\USER\\anaconda3\\Lib\\site-packages\\openpyxl\\worksheet\\_read_only.py:79: UserWarning: Cell E18 is marked as a date but the serial value 3039414.4 is outside the limits for dates. The cell will be treated as an error.\n",
      "  for idx, row in parser.parse():\n",
      "C:\\Users\\USER\\anaconda3\\Lib\\site-packages\\openpyxl\\worksheet\\_read_only.py:79: UserWarning: Cell E32 is marked as a date but the serial value 3786589.2 is outside the limits for dates. The cell will be treated as an error.\n",
      "  for idx, row in parser.parse():\n",
      "C:\\Users\\USER\\anaconda3\\Lib\\site-packages\\openpyxl\\worksheet\\_read_only.py:79: UserWarning: Cell E35 is marked as a date but the serial value 5513227.5 is outside the limits for dates. The cell will be treated as an error.\n",
      "  for idx, row in parser.parse():\n",
      "C:\\Users\\USER\\anaconda3\\Lib\\site-packages\\openpyxl\\worksheet\\_read_only.py:79: UserWarning: Cell F35 is marked as a date but the serial value 4145955 is outside the limits for dates. The cell will be treated as an error.\n",
      "  for idx, row in parser.parse():\n",
      "C:\\Users\\USER\\anaconda3\\Lib\\site-packages\\openpyxl\\worksheet\\_read_only.py:79: UserWarning: Cell E40 is marked as a date but the serial value 4368316.68 is outside the limits for dates. The cell will be treated as an error.\n",
      "  for idx, row in parser.parse():\n",
      "C:\\Users\\USER\\anaconda3\\Lib\\site-packages\\openpyxl\\worksheet\\_read_only.py:79: UserWarning: Cell F40 is marked as a date but the serial value 3521431.68 is outside the limits for dates. The cell will be treated as an error.\n",
      "  for idx, row in parser.parse():\n",
      "C:\\Users\\USER\\anaconda3\\Lib\\site-packages\\openpyxl\\worksheet\\_read_only.py:79: UserWarning: Cell E43 is marked as a date but the serial value 3162704.8 is outside the limits for dates. The cell will be treated as an error.\n",
      "  for idx, row in parser.parse():\n",
      "C:\\Users\\USER\\anaconda3\\Lib\\site-packages\\openpyxl\\worksheet\\_read_only.py:79: UserWarning: Cell E48 is marked as a date but the serial value 3876652.4 is outside the limits for dates. The cell will be treated as an error.\n",
      "  for idx, row in parser.parse():\n",
      "C:\\Users\\USER\\anaconda3\\Lib\\site-packages\\openpyxl\\worksheet\\_read_only.py:79: UserWarning: Cell E61 is marked as a date but the serial value 3154398 is outside the limits for dates. The cell will be treated as an error.\n",
      "  for idx, row in parser.parse():\n",
      "C:\\Users\\USER\\anaconda3\\Lib\\site-packages\\openpyxl\\worksheet\\_read_only.py:79: UserWarning: Cell E64 is marked as a date but the serial value 3593376.78 is outside the limits for dates. The cell will be treated as an error.\n",
      "  for idx, row in parser.parse():\n",
      "C:\\Users\\USER\\anaconda3\\Lib\\site-packages\\openpyxl\\worksheet\\_read_only.py:79: UserWarning: Cell E70 is marked as a date but the serial value 5396577.27 is outside the limits for dates. The cell will be treated as an error.\n",
      "  for idx, row in parser.parse():\n",
      "C:\\Users\\USER\\anaconda3\\Lib\\site-packages\\openpyxl\\worksheet\\_read_only.py:79: UserWarning: Cell F70 is marked as a date but the serial value 4350343.52 is outside the limits for dates. The cell will be treated as an error.\n",
      "  for idx, row in parser.parse():\n",
      "C:\\Users\\USER\\anaconda3\\Lib\\site-packages\\openpyxl\\worksheet\\_read_only.py:79: UserWarning: Cell E72 is marked as a date but the serial value 3262562.1 is outside the limits for dates. The cell will be treated as an error.\n",
      "  for idx, row in parser.parse():\n",
      "C:\\Users\\USER\\anaconda3\\Lib\\site-packages\\openpyxl\\worksheet\\_read_only.py:79: UserWarning: Cell E76 is marked as a date but the serial value 4324782.4 is outside the limits for dates. The cell will be treated as an error.\n",
      "  for idx, row in parser.parse():\n",
      "C:\\Users\\USER\\anaconda3\\Lib\\site-packages\\openpyxl\\worksheet\\_read_only.py:79: UserWarning: Cell E77 is marked as a date but the serial value 4647149.58 is outside the limits for dates. The cell will be treated as an error.\n",
      "  for idx, row in parser.parse():\n",
      "C:\\Users\\USER\\anaconda3\\Lib\\site-packages\\openpyxl\\worksheet\\_read_only.py:79: UserWarning: Cell F77 is marked as a date but the serial value 3494663.16 is outside the limits for dates. The cell will be treated as an error.\n",
      "  for idx, row in parser.parse():\n",
      "C:\\Users\\USER\\anaconda3\\Lib\\site-packages\\openpyxl\\worksheet\\_read_only.py:79: UserWarning: Cell E81 is marked as a date but the serial value 4220728.8 is outside the limits for dates. The cell will be treated as an error.\n",
      "  for idx, row in parser.parse():\n",
      "C:\\Users\\USER\\anaconda3\\Lib\\site-packages\\openpyxl\\worksheet\\_read_only.py:79: UserWarning: Cell E82 is marked as a date but the serial value 3015902.51 is outside the limits for dates. The cell will be treated as an error.\n",
      "  for idx, row in parser.parse():\n",
      "C:\\Users\\USER\\anaconda3\\Lib\\site-packages\\openpyxl\\worksheet\\_read_only.py:79: UserWarning: Cell E95 is marked as a date but the serial value 3458252 is outside the limits for dates. The cell will be treated as an error.\n",
      "  for idx, row in parser.parse():\n",
      "C:\\Users\\USER\\anaconda3\\Lib\\site-packages\\openpyxl\\worksheet\\_read_only.py:79: UserWarning: Cell E101 is marked as a date but the serial value 3586605.09 is outside the limits for dates. The cell will be treated as an error.\n",
      "  for idx, row in parser.parse():\n"
     ]
    }
   ],
   "source": [
    "Customer_df=pd.read_excel('Power BI 3 DATA SETS.xlsx',sheet_name='CUSTOMER TABLE')\n",
    "Order_df=pd.read_excel('Power BI 3 DATA SETS.xlsx',sheet_name='ORDER TABLE')\n",
    "Purchase_df=pd.read_excel('Power BI 3 DATA SETS.xlsx',sheet_name='PURCHASE TABLE')"
   ]
  },
  {
   "cell_type": "code",
   "execution_count": 9,
   "id": "c0e79119",
   "metadata": {},
   "outputs": [
    {
     "data": {
      "text/html": [
       "<div>\n",
       "<style scoped>\n",
       "    .dataframe tbody tr th:only-of-type {\n",
       "        vertical-align: middle;\n",
       "    }\n",
       "\n",
       "    .dataframe tbody tr th {\n",
       "        vertical-align: top;\n",
       "    }\n",
       "\n",
       "    .dataframe thead th {\n",
       "        text-align: right;\n",
       "    }\n",
       "</style>\n",
       "<table border=\"1\" class=\"dataframe\">\n",
       "  <thead>\n",
       "    <tr style=\"text-align: right;\">\n",
       "      <th></th>\n",
       "      <th>Region</th>\n",
       "      <th>Country</th>\n",
       "      <th>Order ID</th>\n",
       "    </tr>\n",
       "  </thead>\n",
       "  <tbody>\n",
       "    <tr>\n",
       "      <th>0</th>\n",
       "      <td>Australia and Oceania</td>\n",
       "      <td>Tuvalu</td>\n",
       "      <td>669165933</td>\n",
       "    </tr>\n",
       "    <tr>\n",
       "      <th>1</th>\n",
       "      <td>Central America and the Caribbean</td>\n",
       "      <td>Grenada</td>\n",
       "      <td>963881480</td>\n",
       "    </tr>\n",
       "    <tr>\n",
       "      <th>2</th>\n",
       "      <td>Europe</td>\n",
       "      <td>Russia</td>\n",
       "      <td>341417157</td>\n",
       "    </tr>\n",
       "    <tr>\n",
       "      <th>3</th>\n",
       "      <td>Sub-Saharan Africa</td>\n",
       "      <td>Sao Tome and Principe</td>\n",
       "      <td>514321792</td>\n",
       "    </tr>\n",
       "    <tr>\n",
       "      <th>4</th>\n",
       "      <td>Sub-Saharan Africa</td>\n",
       "      <td>Rwanda</td>\n",
       "      <td>115456712</td>\n",
       "    </tr>\n",
       "  </tbody>\n",
       "</table>\n",
       "</div>"
      ],
      "text/plain": [
       "                              Region                Country   Order ID\n",
       "0              Australia and Oceania                 Tuvalu  669165933\n",
       "1  Central America and the Caribbean                Grenada  963881480\n",
       "2                             Europe                 Russia  341417157\n",
       "3                 Sub-Saharan Africa  Sao Tome and Principe  514321792\n",
       "4                 Sub-Saharan Africa                 Rwanda  115456712"
      ]
     },
     "execution_count": 9,
     "metadata": {},
     "output_type": "execute_result"
    }
   ],
   "source": [
    "Customer_df.head()"
   ]
  },
  {
   "cell_type": "code",
   "execution_count": 16,
   "id": "82f1f32a",
   "metadata": {},
   "outputs": [
    {
     "data": {
      "text/plain": [
       "Region\n",
       "Sub-Saharan Africa                   36\n",
       "Europe                               22\n",
       "Australia and Oceania                11\n",
       "Asia                                 11\n",
       "Middle East and North Africa         10\n",
       "Central America and the Caribbean     7\n",
       "North America                         3\n",
       "Name: count, dtype: int64"
      ]
     },
     "execution_count": 16,
     "metadata": {},
     "output_type": "execute_result"
    }
   ],
   "source": [
    "Customer_df['Region'].value_counts()"
   ]
  },
  {
   "cell_type": "code",
   "execution_count": 17,
   "id": "4cebef12",
   "metadata": {},
   "outputs": [
    {
     "data": {
      "text/plain": [
       "Country\n",
       "The Gambia               4\n",
       "Sierra Leone             3\n",
       "Sao Tome and Principe    3\n",
       "Mexico                   3\n",
       "Australia                3\n",
       "                        ..\n",
       "Comoros                  1\n",
       "Iceland                  1\n",
       "Macedonia                1\n",
       "Mauritania               1\n",
       "Mozambique               1\n",
       "Name: count, Length: 76, dtype: int64"
      ]
     },
     "execution_count": 17,
     "metadata": {},
     "output_type": "execute_result"
    }
   ],
   "source": [
    "Customer_df['Country'].value_counts()"
   ]
  },
  {
   "cell_type": "code",
   "execution_count": 10,
   "id": "db52b2df",
   "metadata": {},
   "outputs": [
    {
     "data": {
      "text/html": [
       "<div>\n",
       "<style scoped>\n",
       "    .dataframe tbody tr th:only-of-type {\n",
       "        vertical-align: middle;\n",
       "    }\n",
       "\n",
       "    .dataframe tbody tr th {\n",
       "        vertical-align: top;\n",
       "    }\n",
       "\n",
       "    .dataframe thead th {\n",
       "        text-align: right;\n",
       "    }\n",
       "</style>\n",
       "<table border=\"1\" class=\"dataframe\">\n",
       "  <thead>\n",
       "    <tr style=\"text-align: right;\">\n",
       "      <th></th>\n",
       "      <th>Item Type</th>\n",
       "      <th>Sales Channel</th>\n",
       "      <th>Order Date</th>\n",
       "      <th>Order ID</th>\n",
       "      <th>Ship Date</th>\n",
       "    </tr>\n",
       "  </thead>\n",
       "  <tbody>\n",
       "    <tr>\n",
       "      <th>0</th>\n",
       "      <td>Baby Food</td>\n",
       "      <td>Offline</td>\n",
       "      <td>2010-05-28</td>\n",
       "      <td>669165933</td>\n",
       "      <td>2010-06-27</td>\n",
       "    </tr>\n",
       "    <tr>\n",
       "      <th>1</th>\n",
       "      <td>Cereal</td>\n",
       "      <td>Online</td>\n",
       "      <td>2012-08-22</td>\n",
       "      <td>963881480</td>\n",
       "      <td>2012-09-15</td>\n",
       "    </tr>\n",
       "    <tr>\n",
       "      <th>2</th>\n",
       "      <td>Office Supplies</td>\n",
       "      <td>Offline</td>\n",
       "      <td>2014-05-02</td>\n",
       "      <td>341417157</td>\n",
       "      <td>2014-05-08</td>\n",
       "    </tr>\n",
       "    <tr>\n",
       "      <th>3</th>\n",
       "      <td>Fruits</td>\n",
       "      <td>Online</td>\n",
       "      <td>2014-06-20</td>\n",
       "      <td>514321792</td>\n",
       "      <td>2014-07-05</td>\n",
       "    </tr>\n",
       "    <tr>\n",
       "      <th>4</th>\n",
       "      <td>Office Supplies</td>\n",
       "      <td>Offline</td>\n",
       "      <td>2013-02-01</td>\n",
       "      <td>115456712</td>\n",
       "      <td>2013-02-06</td>\n",
       "    </tr>\n",
       "  </tbody>\n",
       "</table>\n",
       "</div>"
      ],
      "text/plain": [
       "         Item Type Sales Channel Order Date   Order ID  Ship Date\n",
       "0        Baby Food       Offline 2010-05-28  669165933 2010-06-27\n",
       "1           Cereal        Online 2012-08-22  963881480 2012-09-15\n",
       "2  Office Supplies       Offline 2014-05-02  341417157 2014-05-08\n",
       "3           Fruits        Online 2014-06-20  514321792 2014-07-05\n",
       "4  Office Supplies       Offline 2013-02-01  115456712 2013-02-06"
      ]
     },
     "execution_count": 10,
     "metadata": {},
     "output_type": "execute_result"
    }
   ],
   "source": [
    "Order_df.head()"
   ]
  },
  {
   "cell_type": "code",
   "execution_count": 13,
   "id": "5c7ea450",
   "metadata": {},
   "outputs": [
    {
     "data": {
      "text/plain": [
       "Item Type\n",
       "Clothes            13\n",
       "Cosmetics          13\n",
       "Office Supplies    12\n",
       "Fruits             10\n",
       "Personal Care      10\n",
       "Household           9\n",
       "Beverages           8\n",
       "Baby Food           7\n",
       "Cereal              7\n",
       "Vegetables          6\n",
       "Snacks              3\n",
       "Meat                2\n",
       "Name: count, dtype: int64"
      ]
     },
     "execution_count": 13,
     "metadata": {},
     "output_type": "execute_result"
    }
   ],
   "source": [
    "Order_df['Item Type'].value_counts()"
   ]
  },
  {
   "cell_type": "code",
   "execution_count": 14,
   "id": "71396747",
   "metadata": {},
   "outputs": [
    {
     "data": {
      "text/plain": [
       "Sales Channel\n",
       "Offline    50\n",
       "Online     50\n",
       "Name: count, dtype: int64"
      ]
     },
     "execution_count": 14,
     "metadata": {},
     "output_type": "execute_result"
    }
   ],
   "source": [
    "Order_df['Sales Channel'].value_counts()"
   ]
  },
  {
   "cell_type": "code",
   "execution_count": 11,
   "id": "e1ff7c95",
   "metadata": {},
   "outputs": [
    {
     "data": {
      "text/html": [
       "<div>\n",
       "<style scoped>\n",
       "    .dataframe tbody tr th:only-of-type {\n",
       "        vertical-align: middle;\n",
       "    }\n",
       "\n",
       "    .dataframe tbody tr th {\n",
       "        vertical-align: top;\n",
       "    }\n",
       "\n",
       "    .dataframe thead th {\n",
       "        text-align: right;\n",
       "    }\n",
       "</style>\n",
       "<table border=\"1\" class=\"dataframe\">\n",
       "  <thead>\n",
       "    <tr style=\"text-align: right;\">\n",
       "      <th></th>\n",
       "      <th>Order ID</th>\n",
       "      <th>Units Sold</th>\n",
       "      <th>Unit Price</th>\n",
       "      <th>Unit Cost</th>\n",
       "      <th>Total Revenue</th>\n",
       "      <th>Total Cost</th>\n",
       "      <th>Total Profit</th>\n",
       "    </tr>\n",
       "  </thead>\n",
       "  <tbody>\n",
       "    <tr>\n",
       "      <th>0</th>\n",
       "      <td>669165933</td>\n",
       "      <td>1927-03-04</td>\n",
       "      <td>1900-09-11 06:43:12</td>\n",
       "      <td>1900-06-07 10:04:48</td>\n",
       "      <td>8836-11-26 00:00:00</td>\n",
       "      <td>6232-01-12 12:00:00</td>\n",
       "      <td>4504-11-13 12:00:00</td>\n",
       "    </tr>\n",
       "    <tr>\n",
       "      <th>1</th>\n",
       "      <td>963881480</td>\n",
       "      <td>1907-09-04</td>\n",
       "      <td>1900-07-23 16:48:00</td>\n",
       "      <td>1900-04-26 02:38:24</td>\n",
       "      <td>3479-03-04 19:12:00</td>\n",
       "      <td>2799-01-22 10:33:36</td>\n",
       "      <td>2580-02-09 08:38:24</td>\n",
       "    </tr>\n",
       "    <tr>\n",
       "      <th>2</th>\n",
       "      <td>341417157</td>\n",
       "      <td>1904-11-13</td>\n",
       "      <td>1901-10-12 05:02:24</td>\n",
       "      <td>1901-06-07 23:02:24</td>\n",
       "      <td>5071-11-13 14:09:36</td>\n",
       "      <td>4456-12-07 20:09:36</td>\n",
       "      <td>2514-12-04 18:00:00</td>\n",
       "    </tr>\n",
       "    <tr>\n",
       "      <th>3</th>\n",
       "      <td>514321792</td>\n",
       "      <td>1922-03-07</td>\n",
       "      <td>1900-01-09 07:55:12</td>\n",
       "      <td>1900-01-06 22:04:48</td>\n",
       "      <td>2106-12-16 15:50:24</td>\n",
       "      <td>2053-06-30 20:09:36</td>\n",
       "      <td>1953-06-15 19:40:48</td>\n",
       "    </tr>\n",
       "    <tr>\n",
       "      <th>4</th>\n",
       "      <td>115456712</td>\n",
       "      <td>1913-11-09</td>\n",
       "      <td>1901-10-12 05:02:24</td>\n",
       "      <td>1901-06-07 23:02:24</td>\n",
       "      <td>NaN</td>\n",
       "      <td>9175-07-26 12:28:48</td>\n",
       "      <td>3649-09-23 12:00:00</td>\n",
       "    </tr>\n",
       "  </tbody>\n",
       "</table>\n",
       "</div>"
      ],
      "text/plain": [
       "    Order ID Units Sold          Unit Price           Unit Cost  \\\n",
       "0  669165933 1927-03-04 1900-09-11 06:43:12 1900-06-07 10:04:48   \n",
       "1  963881480 1907-09-04 1900-07-23 16:48:00 1900-04-26 02:38:24   \n",
       "2  341417157 1904-11-13 1901-10-12 05:02:24 1901-06-07 23:02:24   \n",
       "3  514321792 1922-03-07 1900-01-09 07:55:12 1900-01-06 22:04:48   \n",
       "4  115456712 1913-11-09 1901-10-12 05:02:24 1901-06-07 23:02:24   \n",
       "\n",
       "         Total Revenue           Total Cost         Total Profit  \n",
       "0  8836-11-26 00:00:00  6232-01-12 12:00:00  4504-11-13 12:00:00  \n",
       "1  3479-03-04 19:12:00  2799-01-22 10:33:36  2580-02-09 08:38:24  \n",
       "2  5071-11-13 14:09:36  4456-12-07 20:09:36  2514-12-04 18:00:00  \n",
       "3  2106-12-16 15:50:24  2053-06-30 20:09:36  1953-06-15 19:40:48  \n",
       "4                  NaN  9175-07-26 12:28:48  3649-09-23 12:00:00  "
      ]
     },
     "execution_count": 11,
     "metadata": {},
     "output_type": "execute_result"
    }
   ],
   "source": [
    "Purchase_df.head()"
   ]
  },
  {
   "cell_type": "code",
   "execution_count": 12,
   "id": "223e2b1f",
   "metadata": {},
   "outputs": [
    {
     "name": "stdout",
     "output_type": "stream",
     "text": [
      "<class 'pandas.core.frame.DataFrame'>\n",
      "RangeIndex: 100 entries, 0 to 99\n",
      "Data columns (total 5 columns):\n",
      " #   Column         Non-Null Count  Dtype         \n",
      "---  ------         --------------  -----         \n",
      " 0   Item Type      100 non-null    object        \n",
      " 1   Sales Channel  100 non-null    object        \n",
      " 2   Order Date     100 non-null    datetime64[ns]\n",
      " 3   Order ID       100 non-null    int64         \n",
      " 4   Ship Date      100 non-null    datetime64[ns]\n",
      "dtypes: datetime64[ns](2), int64(1), object(2)\n",
      "memory usage: 4.0+ KB\n"
     ]
    }
   ],
   "source": [
    "Order_df.info()"
   ]
  },
  {
   "cell_type": "code",
   "execution_count": null,
   "id": "5f3f5795",
   "metadata": {},
   "outputs": [],
   "source": []
  }
 ],
 "metadata": {
  "kernelspec": {
   "display_name": "Python 3 (ipykernel)",
   "language": "python",
   "name": "python3"
  },
  "language_info": {
   "codemirror_mode": {
    "name": "ipython",
    "version": 3
   },
   "file_extension": ".py",
   "mimetype": "text/x-python",
   "name": "python",
   "nbconvert_exporter": "python",
   "pygments_lexer": "ipython3",
   "version": "3.11.7"
  }
 },
 "nbformat": 4,
 "nbformat_minor": 5
}
